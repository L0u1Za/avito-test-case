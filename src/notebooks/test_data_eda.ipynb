{
 "cells": [
  {
   "cell_type": "code",
   "execution_count": 26,
   "id": "6f1d8a72",
   "metadata": {},
   "outputs": [],
   "source": [
    "import pandas as pd\n",
    "import csv\n",
    "import matplotlib.pyplot as plt\n",
    "import seaborn as sns\n",
    "\n",
    "from collections import Counter\n",
    "import re"
   ]
  },
  {
   "cell_type": "markdown",
   "id": "2b064fc3",
   "metadata": {},
   "source": [
    "## Read dataset"
   ]
  },
  {
   "cell_type": "code",
   "execution_count": 10,
   "id": "456a1142",
   "metadata": {},
   "outputs": [
    {
     "data": {
      "text/html": [
       "<div>\n",
       "<style scoped>\n",
       "    .dataframe tbody tr th:only-of-type {\n",
       "        vertical-align: middle;\n",
       "    }\n",
       "\n",
       "    .dataframe tbody tr th {\n",
       "        vertical-align: top;\n",
       "    }\n",
       "\n",
       "    .dataframe thead th {\n",
       "        text-align: right;\n",
       "    }\n",
       "</style>\n",
       "<table border=\"1\" class=\"dataframe\">\n",
       "  <thead>\n",
       "    <tr style=\"text-align: right;\">\n",
       "      <th></th>\n",
       "      <th>id</th>\n",
       "      <th>text_no_spaces</th>\n",
       "    </tr>\n",
       "  </thead>\n",
       "  <tbody>\n",
       "    <tr>\n",
       "      <th>0</th>\n",
       "      <td>0</td>\n",
       "      <td>куплюайфон14про</td>\n",
       "    </tr>\n",
       "    <tr>\n",
       "      <th>1</th>\n",
       "      <td>1</td>\n",
       "      <td>ищудомвПодмосковье</td>\n",
       "    </tr>\n",
       "    <tr>\n",
       "      <th>2</th>\n",
       "      <td>2</td>\n",
       "      <td>сдаюквартирусмебельюитехникой</td>\n",
       "    </tr>\n",
       "    <tr>\n",
       "      <th>3</th>\n",
       "      <td>3</td>\n",
       "      <td>новыйдивандоставканедорого</td>\n",
       "    </tr>\n",
       "    <tr>\n",
       "      <th>4</th>\n",
       "      <td>4</td>\n",
       "      <td>отдамдаромкошку</td>\n",
       "    </tr>\n",
       "  </tbody>\n",
       "</table>\n",
       "</div>"
      ],
      "text/plain": [
       "  id                 text_no_spaces\n",
       "0  0                куплюайфон14про\n",
       "1  1             ищудомвПодмосковье\n",
       "2  2  сдаюквартирусмебельюитехникой\n",
       "3  3     новыйдивандоставканедорого\n",
       "4  4                отдамдаромкошку"
      ]
     },
     "execution_count": 10,
     "metadata": {},
     "output_type": "execute_result"
    }
   ],
   "source": [
    "def preprocess_dataset(path):\n",
    "    rows = []\n",
    "    with open('../../data/dataset_1937770_3.txt', encoding='utf-8') as f:\n",
    "        for line in f:\n",
    "            line = line.rstrip('\\n')\n",
    "            # split only on first comma:\n",
    "            id_part, rest = line.split(',', 1)\n",
    "            rows.append([id_part, rest])\n",
    "\n",
    "    df = pd.DataFrame(rows[1:], columns=rows[0])\n",
    "    return df\n",
    "\n",
    "df_test = preprocess_dataset('../../data/dataset_1937770_3.txt')\n",
    "df_test.head()"
   ]
  },
  {
   "cell_type": "code",
   "execution_count": 11,
   "id": "0daf230b",
   "metadata": {},
   "outputs": [
    {
     "data": {
      "text/plain": [
       "id                                           101\n",
       "text_no_spaces    новыймонитор,27дюймов,доставка\n",
       "Name: 101, dtype: object"
      ]
     },
     "execution_count": 11,
     "metadata": {},
     "output_type": "execute_result"
    }
   ],
   "source": [
    "df_test.iloc[101, :]"
   ]
  },
  {
   "cell_type": "code",
   "execution_count": 22,
   "id": "59075ad8",
   "metadata": {},
   "outputs": [
    {
     "data": {
      "text/html": [
       "<div>\n",
       "<style scoped>\n",
       "    .dataframe tbody tr th:only-of-type {\n",
       "        vertical-align: middle;\n",
       "    }\n",
       "\n",
       "    .dataframe tbody tr th {\n",
       "        vertical-align: top;\n",
       "    }\n",
       "\n",
       "    .dataframe thead th {\n",
       "        text-align: right;\n",
       "    }\n",
       "</style>\n",
       "<table border=\"1\" class=\"dataframe\">\n",
       "  <thead>\n",
       "    <tr style=\"text-align: right;\">\n",
       "      <th></th>\n",
       "      <th>id</th>\n",
       "      <th>text_no_spaces</th>\n",
       "    </tr>\n",
       "  </thead>\n",
       "  <tbody>\n",
       "    <tr>\n",
       "      <th>count</th>\n",
       "      <td>1005</td>\n",
       "      <td>1005</td>\n",
       "    </tr>\n",
       "    <tr>\n",
       "      <th>unique</th>\n",
       "      <td>1005</td>\n",
       "      <td>1005</td>\n",
       "    </tr>\n",
       "    <tr>\n",
       "      <th>top</th>\n",
       "      <td>1004</td>\n",
       "      <td>Весна-гдемояголова?</td>\n",
       "    </tr>\n",
       "    <tr>\n",
       "      <th>freq</th>\n",
       "      <td>1</td>\n",
       "      <td>1</td>\n",
       "    </tr>\n",
       "  </tbody>\n",
       "</table>\n",
       "</div>"
      ],
      "text/plain": [
       "          id       text_no_spaces\n",
       "count   1005                 1005\n",
       "unique  1005                 1005\n",
       "top     1004  Весна-гдемояголова?\n",
       "freq       1                    1"
      ]
     },
     "execution_count": 22,
     "metadata": {},
     "output_type": "execute_result"
    }
   ],
   "source": [
    "df_test.describe()"
   ]
  },
  {
   "cell_type": "markdown",
   "id": "508102e0",
   "metadata": {},
   "source": [
    "## EDA on dataset"
   ]
  },
  {
   "cell_type": "markdown",
   "id": "b9142a9e",
   "metadata": {},
   "source": [
    "### Length of texts"
   ]
  },
  {
   "cell_type": "code",
   "execution_count": 28,
   "id": "cc4bebf4",
   "metadata": {},
   "outputs": [
    {
     "name": "stdout",
     "output_type": "stream",
     "text": [
      "Statistics for text lengths:\n",
      "count    1005.000000\n",
      "mean       22.860697\n",
      "std         7.213070\n",
      "min         4.000000\n",
      "25%        18.000000\n",
      "50%        22.000000\n",
      "75%        28.000000\n",
      "max        56.000000\n",
      "Name: length, dtype: float64\n",
      "\n",
      "Counts per text length (first few):\n",
      "length\n",
      "4      1\n",
      "5      4\n",
      "6      1\n",
      "7      4\n",
      "8      2\n",
      "9      3\n",
      "10     4\n",
      "11     7\n",
      "12    16\n",
      "13    21\n",
      "14    35\n",
      "15    43\n",
      "16    46\n",
      "17    64\n",
      "18    59\n",
      "19    58\n",
      "20    65\n",
      "21    58\n",
      "22    45\n",
      "23    40\n",
      "Name: count, dtype: int64\n",
      "\n",
      "… and some of the longer ones:\n",
      "length\n",
      "27    37\n",
      "28    30\n",
      "29    31\n",
      "30    27\n",
      "31    30\n",
      "32    20\n",
      "33    21\n",
      "34    29\n",
      "35    11\n",
      "36    15\n",
      "37    10\n",
      "38     9\n",
      "39     6\n",
      "40     2\n",
      "41     2\n",
      "43     2\n",
      "44     4\n",
      "45     1\n",
      "46     1\n",
      "56     1\n",
      "Name: count, dtype: int64\n"
     ]
    },
    {
     "data": {
      "image/png": "[encoded data removed]",
      "text/plain": [
       "<Figure size 1000x600 with 1 Axes>"
      ]
     },
     "metadata": {},
     "output_type": "display_data"
    }
   ],
   "source": [
    "df_test['length'] = df_test['text_no_spaces'].str.len()\n",
    "\n",
    "print(\"Statistics for text lengths:\")\n",
    "print(df_test['length'].describe())  # gives count, mean, std, min, quartiles, max\n",
    "\n",
    "length_counts = df_test['length'].value_counts().sort_index()\n",
    "print(\"\\nCounts per text length (first few):\")\n",
    "print(length_counts.head(20))\n",
    "print(\"\\n… and some of the longer ones:\")\n",
    "print(length_counts.tail(20))\n",
    "\n",
    "plt.figure(figsize=(10, 6))\n",
    "sns.histplot(df_test['length'], bins=50, kde=False, color='skyblue', edgecolor='black')\n",
    "plt.title('Distribution of Text Lengths')\n",
    "plt.xlabel('Length (number of characters)')\n",
    "plt.ylabel('Number of texts')\n",
    "plt.grid(True, linestyle='--', alpha=0.5)\n",
    "plt.tight_layout()\n",
    "plt.show()"
   ]
  },
  {
   "cell_type": "markdown",
   "id": "36679b1c",
   "metadata": {},
   "source": [
    "Texts are not very long, we can use models that don't have big context window"
   ]
  },
  {
   "cell_type": "markdown",
   "id": "71270f10",
   "metadata": {},
   "source": [
    "### Char counts"
   ]
  },
  {
   "cell_type": "code",
   "execution_count": 15,
   "id": "8a20a7e0",
   "metadata": {},
   "outputs": [
    {
     "name": "stdout",
     "output_type": "stream",
     "text": [
      "   char  count\n",
      "0     о   2192\n",
      "1     а   1716\n",
      "2     е   1585\n",
      "3     т   1275\n",
      "4     н   1274\n",
      "5     и   1251\n",
      "6     р   1019\n",
      "7     с   1001\n",
      "8     у    979\n",
      "9     л    920\n",
      "10    к    919\n",
      "11    в    793\n",
      "12    д    773\n",
      "13    м    741\n",
      "14    п    611\n",
      "15    ,    429\n",
      "16    я    425\n",
      "17    ы    396\n",
      "18    ь    382\n",
      "19    б    356\n",
      "20    г    313\n",
      "21    й    308\n",
      "22    ю    299\n",
      "23    з    296\n",
      "24    ч    265\n",
      "25    ж    196\n",
      "26    ш    176\n",
      "27    щ    167\n",
      "28    х    166\n",
      "29    .    156\n"
     ]
    }
   ],
   "source": [
    "texts = df_test['text_no_spaces'].fillna('').astype(str)\n",
    "\n",
    "counter = Counter()\n",
    "for text in texts:\n",
    "    counter.update(text)\n",
    "\n",
    "char_counts = pd.DataFrame(counter.items(), columns=['char', 'count'])\n",
    "char_counts = char_counts.sort_values(by='count', ascending=False).reset_index(drop=True)\n",
    "\n",
    "print(char_counts.head(30))\n",
    "\n",
    "char_counts.to_csv('../../data/char_frequency.csv', index=False, encoding='utf-8')"
   ]
  },
  {
   "cell_type": "code",
   "execution_count": 21,
   "id": "0835b293",
   "metadata": {},
   "outputs": [
    {
     "data": {
      "text/plain": [
       "0"
      ]
     },
     "execution_count": 21,
     "metadata": {},
     "output_type": "execute_result"
    }
   ],
   "source": [
    "char_counts.get(' ', 0)"
   ]
  },
  {
   "cell_type": "markdown",
   "id": "0d8ddae4",
   "metadata": {},
   "source": [
    "There are no partly lost spaces in texts: texts completely dont have spaces. That's why, when creating training dataset, we only need to remove ALL spaces, not randomly sample some of them to dissappear"
   ]
  },
  {
   "cell_type": "markdown",
   "id": "8ad863d7",
   "metadata": {},
   "source": [
    "### Language check"
   ]
  },
  {
   "cell_type": "code",
   "execution_count": 16,
   "id": "a5c07521",
   "metadata": {},
   "outputs": [],
   "source": [
    "def categorize_char(ch):\n",
    "    \"\"\"Return category: 'ru', 'en', or 'other'.\"\"\"\n",
    "    # Russian letters: Unicode ranges for Cyrillic block\n",
    "    # Lowercase и uppercase\n",
    "    # U+0400–U+04FF covers many Cyrillic, including Russian letters\n",
    "    # Also supplementar Cyrillic blocks (if needed)\n",
    "    code = ord(ch)\n",
    "    if (0x0400 <= code <= 0x04FF) or (0x0500 <= code <= 0x052F):  \n",
    "        return 'ru'\n",
    "    # English/Latin letters\n",
    "    elif ('a' <= ch <= 'z') or ('A' <= ch <= 'Z'):\n",
    "        return 'en'\n",
    "    else:\n",
    "        return 'other'\n",
    "\n",
    "def count_char_categories(texts):\n",
    "    counts = Counter()\n",
    "    for text in texts:\n",
    "        for ch in text:\n",
    "            cat = categorize_char(ch)\n",
    "            counts[cat] += 1\n",
    "    return counts"
   ]
  },
  {
   "cell_type": "code",
   "execution_count": 17,
   "id": "cfd11d00",
   "metadata": {},
   "outputs": [
    {
     "name": "stdout",
     "output_type": "stream",
     "text": [
      "Character category counts:\n",
      "  ru: 21693 (94.42% of all chars)\n",
      "  en: 498 (2.17% of all chars)\n",
      "  other: 784 (3.41% of all chars)\n",
      "\n",
      "Unique characters per category:\n",
      "  ru: 58, sample: ['У', 'ё', 'р', 'К', 'ц', 'Х', 'б', 'Л', 'д', 'п', 'Б', 'Ч', 'з', 'М', 'З', 'Р', 'Э', 'к', 'ш', 'я']\n",
      "  en: 46, sample: ['D', 'r', 'W', 'R', 'p', 'Y', 'B', 'v', 'e', 'M', 'X', 't', 'k', 'o', 'V', 'l', 'd', 'N', 'n', 'K']\n",
      "  other: 23, sample: ['’', '5', '«', '1', ':', '8', '?', '0', '!', '—', '+', '3', '–', '»', '-', '.', '4', ',', \"'\", '6']\n"
     ]
    }
   ],
   "source": [
    "# Get counts\n",
    "char_cat_counts = count_char_categories(texts)\n",
    "\n",
    "total_chars = sum(char_cat_counts.values())\n",
    "print(\"Character category counts:\")\n",
    "for cat in ['ru', 'en', 'other']:\n",
    "    cnt = char_cat_counts.get(cat, 0)\n",
    "    print(f\"  {cat}: {cnt} ({cnt/total_chars:.2%} of all chars)\")\n",
    "\n",
    "# If you also want “unique” characters in each category\n",
    "# and what they are:\n",
    "unique = {'ru': set(), 'en': set(), 'other': set()}\n",
    "for text in texts:\n",
    "    for ch in text:\n",
    "        unique[categorize_char(ch)].add(ch)\n",
    "print(\"\\nUnique characters per category:\")\n",
    "for cat in unique:\n",
    "    print(f\"  {cat}: {len(unique[cat])}, sample: {list(unique[cat])[:20]}\")"
   ]
  },
  {
   "cell_type": "markdown",
   "id": "662b8cbf",
   "metadata": {},
   "source": [
    "Based on this information, we can say that these texts are mostly written in Russian. That's why we can use pretrained russian language tokenizers and models."
   ]
  },
  {
   "cell_type": "code",
   "execution_count": null,
   "id": "9a57c082",
   "metadata": {},
   "outputs": [],
   "source": []
  }
 ],
 "metadata": {
  "kernelspec": {
   "display_name": "Python 3",
   "language": "python",
   "name": "python3"
  },
  "language_info": {
   "codemirror_mode": {
    "name": "ipython",
    "version": 3
   },
   "file_extension": ".py",
   "mimetype": "text/x-python",
   "name": "python",
   "nbconvert_exporter": "python",
   "pygments_lexer": "ipython3",
   "version": "3.10.10"
  }
 },
 "nbformat": 4,
 "nbformat_minor": 5
}
